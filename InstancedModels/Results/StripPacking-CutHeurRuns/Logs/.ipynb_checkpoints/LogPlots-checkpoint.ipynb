{
 "cells": [
  {
   "cell_type": "code",
   "execution_count": 46,
   "id": "1771f99c",
   "metadata": {
    "scrolled": true
   },
   "outputs": [],
   "source": [
    "import gurobi_logtools as glt\n",
    "import pandas as pd"
   ]
  },
  {
   "cell_type": "code",
   "execution_count": 132,
   "id": "5ad0ea52",
   "metadata": {},
   "outputs": [],
   "source": [
    "F = [\"RU\", \"SBL\", \"SBM\", \"SU\"]\n",
    "N = [\"10\", \"15\", \"20\", \"25\"]\n",
    "P = [\"111\", \"110\", \"011\", \"010\"]\n",
    "O = [\"StripPacking\"]\n",
    "\n",
    "Params = [(f,p,o,n)  for f in F  for p in P  for o in O  for n in N]\n",
    "Files = [f + \"-\" + p + \"-\" + o + \"-\" + n + \".log\"  for (f,p,o,n) in Params]\n",
    "Results = glt.parse(Files)\n",
    "Info = pd.DataFrame({'Formulation': [f    for (f,p,o,n) in Params], 'N': [n   for (f,p,o,n) in Params]})\n",
    "Summary = Results.summary().join(Info)\n",
    "Progress = Results.progress(\"nodelog\")\n",
    "fs = []\n",
    "cs = []\n",
    "hs = []\n",
    "ns = []\n",
    "for index, row in Progress.iterrows():\n",
    "    file = row['LogFilePath']\n",
    "    dash = file.index('-')\n",
    "    fs.append(file[0:dash])\n",
    "    cs.append(file[dash+1]+file[dash+3])\n",
    "    ns.append(file[-6:-4])\n",
    "Progress['Formulation'] = fs\n",
    "Progress['Code'] = cs\n",
    "Progress['N'] = ns"
   ]
  },
  {
   "cell_type": "code",
   "execution_count": 134,
   "id": "0c3da2b3",
   "metadata": {
    "scrolled": true
   },
   "outputs": [
    {
     "data": {
      "application/vnd.jupyter.widget-view+json": {
       "model_id": "ff2c7c8924414a7da548567aff99739c",
       "version_major": 2,
       "version_minor": 0
      },
      "text/plain": [
       "interactive(children=(Dropdown(description='x', index=9, options=('CurrentNode', 'RemainingNodes', 'Obj', 'Dep…"
      ]
     },
     "metadata": {},
     "output_type": "display_data"
    }
   ],
   "source": [
    "Logs = Progress[Progress['N'].isin(['20'])]\n",
    "glt.plot(Progress, y=\"Gap\", type=\"line\", color=\"Code\")"
   ]
  }
 ],
 "metadata": {
  "kernelspec": {
   "display_name": "Python 3 (ipykernel)",
   "language": "python",
   "name": "python3"
  },
  "language_info": {
   "codemirror_mode": {
    "name": "ipython",
    "version": 3
   },
   "file_extension": ".py",
   "mimetype": "text/x-python",
   "name": "python",
   "nbconvert_exporter": "python",
   "pygments_lexer": "ipython3",
   "version": "3.9.7"
  }
 },
 "nbformat": 4,
 "nbformat_minor": 5
}
